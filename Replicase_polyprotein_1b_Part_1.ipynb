{
  "nbformat": 4,
  "nbformat_minor": 0,
  "metadata": {
    "colab": {
      "name": "Replicase polyprotein 1b_Part-1.ipynb",
      "private_outputs": true,
      "provenance": [],
      "authorship_tag": "ABX9TyMoZMUiyxpKSG+9qoOukZqJ",
      "include_colab_link": true
    },
    "kernelspec": {
      "name": "python3",
      "display_name": "Python 3"
    },
    "language_info": {
      "name": "python"
    }
  },
  "cells": [
    {
      "cell_type": "markdown",
      "metadata": {
        "id": "view-in-github",
        "colab_type": "text"
      },
      "source": [
        "<a href=\"https://colab.research.google.com/github/hafeezjaan77/AMP_Data/blob/main/Replicase_polyprotein_1b_Part_1.ipynb\" target=\"_parent\"><img src=\"https://colab.research.google.com/assets/colab-badge.svg\" alt=\"Open In Colab\"/></a>"
      ]
    },
    {
      "cell_type": "markdown",
      "metadata": {
        "id": "fYad_UPBVJec"
      },
      "source": [
        "# **Replicase polyprotein 1b Bioactivity Data**\n",
        "Abdul Hafeez\n"
      ]
    },
    {
      "cell_type": "markdown",
      "metadata": {
        "id": "CpBrunfjVfIm"
      },
      "source": [
        "# **ChEMBL Database**\n",
        "\n",
        "\n",
        "**Installing libraries**\n",
        "\n",
        "Install the ChEMBL web service package so that we can retrieve bioactivity data from the ChEMBL Database."
      ]
    },
    {
      "cell_type": "code",
      "metadata": {
        "id": "W5nnnEelVa3m"
      },
      "source": [
        "! pip install chembl_webresource_client"
      ],
      "execution_count": null,
      "outputs": []
    },
    {
      "cell_type": "markdown",
      "metadata": {
        "id": "FU3uwi0ZV1Sb"
      },
      "source": [
        "# **Importing libraries**"
      ]
    },
    {
      "cell_type": "code",
      "metadata": {
        "id": "AlEMb63vV3M4"
      },
      "source": [
        "# Import necessary libraries\n",
        "import pandas as pd\n",
        "from chembl_webresource_client.new_client import new_client"
      ],
      "execution_count": null,
      "outputs": []
    },
    {
      "cell_type": "markdown",
      "metadata": {
        "id": "4-vTIcQcV9qT"
      },
      "source": [
        "# **Search for Target protein**\n",
        "\n",
        "**Target search for Nisin**"
      ]
    },
    {
      "cell_type": "code",
      "metadata": {
        "id": "jlkyptsYWCxb"
      },
      "source": [
        "# Target search for \n",
        "target = new_client.target\n",
        "target_query = target.search('antimicrobial peptide')\n",
        "targets = pd.DataFrame.from_dict(target_query)\n",
        "targets"
      ],
      "execution_count": null,
      "outputs": []
    },
    {
      "cell_type": "markdown",
      "metadata": {
        "id": "aR_KqNGcXCGI"
      },
      "source": [
        "**Select and retrieve bioactivity data for Replicase polyprotein 1ab (second entry)**\n",
        "\n",
        "We will assign the second entry (which corresponds to the target protein, Replicase polyprotein 1ab) to the selected_target variable"
      ]
    },
    {
      "cell_type": "code",
      "metadata": {
        "id": "XD_GlDizXT5B"
      },
      "source": [
        "selected_target = targets.target_chembl_id[172]\n",
        "selected_target"
      ],
      "execution_count": null,
      "outputs": []
    },
    {
      "cell_type": "markdown",
      "metadata": {
        "id": "fjmz-LMhXbdu"
      },
      "source": [
        "Here, we will retrieve only bioactivity data for Replicase polyprotein 1b (CHEMBL4523582) that are reported as pChEMBL values.\n",
        "\n"
      ]
    },
    {
      "cell_type": "code",
      "metadata": {
        "id": "hTZOv1JNXgpz"
      },
      "source": [
        "activity = new_client.activity\n",
        "res = activity.filter(target_chembl_id=selected_target).filter(standard_type=\"IC50\")"
      ],
      "execution_count": null,
      "outputs": []
    },
    {
      "cell_type": "code",
      "metadata": {
        "id": "W4xvCEE6Xmou"
      },
      "source": [
        "df = pd.DataFrame.from_dict(res)"
      ],
      "execution_count": null,
      "outputs": []
    },
    {
      "cell_type": "code",
      "metadata": {
        "id": "U5x7iqbHXv5c"
      },
      "source": [
        "df"
      ],
      "execution_count": null,
      "outputs": []
    },
    {
      "cell_type": "markdown",
      "metadata": {
        "id": "MQ9EO5awaE1_"
      },
      "source": [
        "Finally we will save the resulting bioactivity data to a CSV file bioactivity_data.csv.\n",
        "\n"
      ]
    },
    {
      "cell_type": "code",
      "metadata": {
        "id": "yjnYyCzUaGNS"
      },
      "source": [
        "df.to_csv('replicase polyprotein 1b_01_bioactivity_data_raw.csv', index=False)"
      ],
      "execution_count": null,
      "outputs": []
    },
    {
      "cell_type": "markdown",
      "metadata": {
        "id": "tYoSyedDa8RL"
      },
      "source": [
        "# **Handling missing data**\n",
        "\n",
        "If any compounds has missing value for the standard_value and canonical_smiles column then drop it."
      ]
    },
    {
      "cell_type": "code",
      "metadata": {
        "id": "lf6ygvtka-29"
      },
      "source": [
        "df2 = df[df.standard_value.notna()]\n",
        "df2 = df2[df.canonical_smiles.notna()]\n",
        "df2"
      ],
      "execution_count": null,
      "outputs": []
    },
    {
      "cell_type": "code",
      "metadata": {
        "id": "PG2r9DR_bGNp"
      },
      "source": [
        "len(df2.canonical_smiles.unique())\n"
      ],
      "execution_count": null,
      "outputs": []
    },
    {
      "cell_type": "code",
      "metadata": {
        "id": "qzJikF-KbJfz"
      },
      "source": [
        "df2_nr = df2.drop_duplicates(['canonical_smiles'])\n",
        "df2_nr"
      ],
      "execution_count": null,
      "outputs": []
    },
    {
      "cell_type": "markdown",
      "metadata": {
        "id": "3qvd2VJqbOhr"
      },
      "source": [
        "# **Data pre-processing of the bioactivity data**\n",
        "\n",
        "Combine the 3 columns (molecule_chembl_id,canonical_smiles,standard_value) and bioactivity_class into a DataFrame"
      ]
    },
    {
      "cell_type": "code",
      "metadata": {
        "id": "gUiXijWfbRXc"
      },
      "source": [
        "selection = ['molecule_chembl_id','canonical_smiles','standard_value']\n",
        "df3 = df2_nr[selection]\n",
        "df3"
      ],
      "execution_count": null,
      "outputs": []
    },
    {
      "cell_type": "markdown",
      "metadata": {
        "id": "AUlTv0zwbYOu"
      },
      "source": [
        "Saves dataframe to CSV file\n",
        "\n"
      ]
    },
    {
      "cell_type": "code",
      "metadata": {
        "id": "z9AZEKr3bZnr"
      },
      "source": [
        "df3.to_csv('replicase polyprotein 1b_02_bioactivity_data_preprocessed.csv', index=False)\n"
      ],
      "execution_count": null,
      "outputs": []
    },
    {
      "cell_type": "markdown",
      "metadata": {
        "id": "7FYAB1pJbo7m"
      },
      "source": [
        "# **Labeling compounds as either being active, inactive or intermediate**\n",
        "\n",
        "The bioactivity data is in the IC50 unit. Compounds having values of less than 1000 nM will be considered to be active while those greater than 10,000 nM will be considered to be inactive. As for those values in between 1,000 and 10,000 nM will be referred to as intermediate."
      ]
    },
    {
      "cell_type": "code",
      "metadata": {
        "id": "eFptOhxwbrhe"
      },
      "source": [
        "df4 = pd.read_csv('replicase polyprotein 1b_02_bioactivity_data_preprocessed.csv')"
      ],
      "execution_count": null,
      "outputs": []
    },
    {
      "cell_type": "code",
      "metadata": {
        "id": "Isuku92Gb3z7"
      },
      "source": [
        "bioactivity_threshold = []\n",
        "for i in df4.standard_value:\n",
        "  if float(i) >= 10000:\n",
        "    bioactivity_threshold.append(\"inactive\")\n",
        "  elif float(i) <= 1000:\n",
        "    bioactivity_threshold.append(\"active\")\n",
        "  else:\n",
        "    bioactivity_threshold.append(\"intermediate\")"
      ],
      "execution_count": null,
      "outputs": []
    },
    {
      "cell_type": "code",
      "metadata": {
        "id": "FkOjgxDdb77C"
      },
      "source": [
        "bioactivity_class = pd.Series(bioactivity_threshold, name='class')\n",
        "df5 = pd.concat([df4, bioactivity_class], axis=1)\n",
        "df5"
      ],
      "execution_count": null,
      "outputs": []
    },
    {
      "cell_type": "markdown",
      "metadata": {
        "id": "stynyhrRcBYX"
      },
      "source": [
        "Saves dataframe to CSV file\n",
        "\n"
      ]
    },
    {
      "cell_type": "code",
      "metadata": {
        "id": "PuTG0fUacB_g"
      },
      "source": [
        "df5.to_csv('replicase popyprotein 1b_03_bioactivity_data_curated.csv', index=False)\n"
      ],
      "execution_count": null,
      "outputs": []
    },
    {
      "cell_type": "code",
      "metadata": {
        "id": "3CgCIteOcMBH"
      },
      "source": [
        "! zip replicase polyprotein 1b.zip *.csv\n"
      ],
      "execution_count": null,
      "outputs": []
    },
    {
      "cell_type": "code",
      "metadata": {
        "id": "gAoeifHDckwU"
      },
      "source": [
        "! ls -l"
      ],
      "execution_count": null,
      "outputs": []
    }
  ]
}