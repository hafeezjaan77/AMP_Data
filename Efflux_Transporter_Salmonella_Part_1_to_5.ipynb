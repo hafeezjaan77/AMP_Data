{
  "nbformat": 4,
  "nbformat_minor": 0,
  "metadata": {
    "colab": {
      "name": " Efflux Transporter_Salmonella_Part-1 to 5.ipynb",
      "private_outputs": true,
      "provenance": [],
      "collapsed_sections": [],
      "authorship_tag": "ABX9TyORcP9G11lLLBjRae0mkUhR",
      "include_colab_link": true
    },
    "kernelspec": {
      "name": "python3",
      "display_name": "Python 3"
    },
    "language_info": {
      "name": "python"
    }
  },
  "cells": [
    {
      "cell_type": "markdown",
      "metadata": {
        "id": "view-in-github",
        "colab_type": "text"
      },
      "source": [
        "<a href=\"https://colab.research.google.com/github/hafeezjaan77/AMP_Data/blob/main/Efflux_Transporter_Salmonella_Part_1_to_5.ipynb\" target=\"_parent\"><img src=\"https://colab.research.google.com/assets/colab-badge.svg\" alt=\"Open In Colab\"/></a>"
      ]
    },
    {
      "cell_type": "markdown",
      "metadata": {
        "id": "fYad_UPBVJec"
      },
      "source": [
        "# **Hepcidin Antimicrobial Peptide (HAMP) Bioactivity Data**\n",
        "\n",
        "**Abdul Hafeez**\n",
        "\n",
        "**Protein:** Hepcidin\n",
        "\n",
        "**Organism:** Human"
      ]
    },
    {
      "cell_type": "markdown",
      "metadata": {
        "id": "rZu2BKqi3l2Z"
      },
      "source": [
        "# **Functions of HAMP**\n",
        "\n",
        "Hepcidin is a cationic amphipathic peptide that is synthesized mainly by hepatocytes, released into the plasma,\n",
        "and excreted in the urine. It acts as both a bactericidal peptide and a homeostatic regulator of intestinal iron\n",
        "absorption, iron recycling by macrophages, and iron mobilization from hepatic stores. Iron, however, is a principal element required for bacterial growth and escape from a complement attack by induced OmpA expression. These observations suggested a cooperative effect between the antibacterial and iron regulatory activities\n",
        "of hepcidin in the innate immune defence against bacterial invasion [Ref:https://www.nature.com/articles/s41598-017-04069-x.pdf].\n",
        "\n",
        "\n",
        "The active C-terminal 25 aa peptide is cleaved from a 84 aa precursor and contains a unique 17-aa stretch with eight cysteines forming four disulphide bridges. HAMP has antimicrobial properties against Gram-positive bacteria, and inhibits the growth of certain yeast and Gram-negative species with activity similar to β-*defensin.\n",
        "\n"
      ]
    },
    {
      "cell_type": "markdown",
      "metadata": {
        "id": "CpBrunfjVfIm"
      },
      "source": [
        "# **ChEMBL Database**\n",
        "\n",
        "\n",
        "**Installing libraries**\n",
        "\n",
        "Install the ChEMBL web service package so that we can retrieve bioactivity data from the ChEMBL Database."
      ]
    },
    {
      "cell_type": "code",
      "metadata": {
        "id": "W5nnnEelVa3m"
      },
      "source": [
        "! pip install chembl_webresource_client"
      ],
      "execution_count": null,
      "outputs": []
    },
    {
      "cell_type": "markdown",
      "metadata": {
        "id": "FU3uwi0ZV1Sb"
      },
      "source": [
        "# **Importing libraries**"
      ]
    },
    {
      "cell_type": "code",
      "metadata": {
        "id": "AlEMb63vV3M4"
      },
      "source": [
        "# Import necessary libraries\n",
        "import pandas as pd\n",
        "from chembl_webresource_client.new_client import new_client"
      ],
      "execution_count": null,
      "outputs": []
    },
    {
      "cell_type": "markdown",
      "metadata": {
        "id": "4-vTIcQcV9qT"
      },
      "source": [
        "# **Search for Target protein**\n",
        "\n",
        "**Target search for Nisin**"
      ]
    },
    {
      "cell_type": "code",
      "metadata": {
        "id": "jlkyptsYWCxb"
      },
      "source": [
        "# Target search for Antimicrobial Resistance\n",
        "target = new_client.target\n",
        "target_query = target.search('antimicrobial resistance')\n",
        "targets = pd.DataFrame.from_dict(target_query)\n",
        "targets"
      ],
      "execution_count": null,
      "outputs": []
    },
    {
      "cell_type": "markdown",
      "metadata": {
        "id": "aR_KqNGcXCGI"
      },
      "source": [
        "**Select and retrieve bioactivity data for HAMP**\n",
        "\n",
        "We will assign the second entry (which corresponds to the target protein, HAMP) to the selected_target variable"
      ]
    },
    {
      "cell_type": "code",
      "metadata": {
        "id": "XD_GlDizXT5B"
      },
      "source": [
        "selected_target = targets.target_chembl_id[74]\n",
        "selected_target"
      ],
      "execution_count": null,
      "outputs": []
    },
    {
      "cell_type": "markdown",
      "metadata": {
        "id": "fjmz-LMhXbdu"
      },
      "source": [
        "Here, we will retrieve only bioactivity data for  (CHEMBL3989381) that are reported as pChEMBL values.\n",
        "\n"
      ]
    },
    {
      "cell_type": "code",
      "metadata": {
        "id": "hTZOv1JNXgpz"
      },
      "source": [
        "activity = new_client.activity\n",
        "res = activity.filter(target_chembl_id=selected_target).filter(standard_type=\"IC50\")"
      ],
      "execution_count": null,
      "outputs": []
    },
    {
      "cell_type": "code",
      "metadata": {
        "id": "W4xvCEE6Xmou"
      },
      "source": [
        "df = pd.DataFrame.from_dict(res)"
      ],
      "execution_count": null,
      "outputs": []
    },
    {
      "cell_type": "code",
      "metadata": {
        "id": "U5x7iqbHXv5c"
      },
      "source": [
        "df"
      ],
      "execution_count": null,
      "outputs": []
    },
    {
      "cell_type": "markdown",
      "metadata": {
        "id": "MQ9EO5awaE1_"
      },
      "source": [
        "Finally we will save the resulting bioactivity data to a CSV file bioactivity_data.csv.\n",
        "\n"
      ]
    },
    {
      "cell_type": "code",
      "metadata": {
        "id": "yjnYyCzUaGNS"
      },
      "source": [
        "df.to_csv('effluxtransporter_01_bioactivity_data_raw.csv', index=False)"
      ],
      "execution_count": null,
      "outputs": []
    },
    {
      "cell_type": "markdown",
      "metadata": {
        "id": "tYoSyedDa8RL"
      },
      "source": [
        "# **Handling missing data**\n",
        "\n",
        "If any compounds has missing value for the standard_value and canonical_smiles column then drop it."
      ]
    },
    {
      "cell_type": "code",
      "metadata": {
        "id": "lf6ygvtka-29"
      },
      "source": [
        "df2 = df[df.standard_value.notna()]\n",
        "df2 = df2[df.canonical_smiles.notna()]\n",
        "df2"
      ],
      "execution_count": null,
      "outputs": []
    },
    {
      "cell_type": "code",
      "metadata": {
        "id": "PG2r9DR_bGNp"
      },
      "source": [
        "len(df2.canonical_smiles.unique())\n"
      ],
      "execution_count": null,
      "outputs": []
    },
    {
      "cell_type": "code",
      "metadata": {
        "id": "qzJikF-KbJfz"
      },
      "source": [
        "df2_nr = df2.drop_duplicates(['canonical_smiles'])\n",
        "df2_nr"
      ],
      "execution_count": null,
      "outputs": []
    },
    {
      "cell_type": "markdown",
      "metadata": {
        "id": "3qvd2VJqbOhr"
      },
      "source": [
        "# **Data pre-processing of the bioactivity data**\n",
        "\n",
        "Combine the 3 columns (molecule_chembl_id,canonical_smiles,standard_value) and bioactivity_class into a DataFrame"
      ]
    },
    {
      "cell_type": "code",
      "metadata": {
        "id": "gUiXijWfbRXc"
      },
      "source": [
        "selection = ['molecule_chembl_id','canonical_smiles','standard_value']\n",
        "df3 = df2_nr[selection]\n",
        "df3"
      ],
      "execution_count": null,
      "outputs": []
    },
    {
      "cell_type": "markdown",
      "metadata": {
        "id": "AUlTv0zwbYOu"
      },
      "source": [
        "Saves dataframe to CSV file\n",
        "\n"
      ]
    },
    {
      "cell_type": "code",
      "metadata": {
        "id": "z9AZEKr3bZnr"
      },
      "source": [
        "df3.to_csv('effluxtransporter_02_bioactivity_data_preprocessed.csv', index=False)\n"
      ],
      "execution_count": null,
      "outputs": []
    },
    {
      "cell_type": "markdown",
      "metadata": {
        "id": "7FYAB1pJbo7m"
      },
      "source": [
        "# **Labeling compounds as either being active, inactive or intermediate**\n",
        "\n",
        "The bioactivity data is in the IC50 unit. Compounds having values of less than 1000 nM will be considered to be active while those greater than 10,000 nM will be considered to be inactive. As for those values in between 1,000 and 10,000 nM will be referred to as intermediate."
      ]
    },
    {
      "cell_type": "code",
      "metadata": {
        "id": "eFptOhxwbrhe"
      },
      "source": [
        "df4 = pd.read_csv('effluxtransporter_02_bioactivity_data_preprocessed.csv')"
      ],
      "execution_count": null,
      "outputs": []
    },
    {
      "cell_type": "code",
      "metadata": {
        "id": "Isuku92Gb3z7"
      },
      "source": [
        "bioactivity_threshold = []\n",
        "for i in df4.standard_value:\n",
        "  if float(i) >= 10000:\n",
        "    bioactivity_threshold.append(\"inactive\")\n",
        "  elif float(i) <= 1000:\n",
        "    bioactivity_threshold.append(\"active\")\n",
        "  else:\n",
        "    bioactivity_threshold.append(\"intermediate\")"
      ],
      "execution_count": null,
      "outputs": []
    },
    {
      "cell_type": "code",
      "metadata": {
        "id": "FkOjgxDdb77C"
      },
      "source": [
        "bioactivity_class = pd.Series(bioactivity_threshold, name='class')\n",
        "df5 = pd.concat([df4, bioactivity_class], axis=1)\n",
        "df5"
      ],
      "execution_count": null,
      "outputs": []
    },
    {
      "cell_type": "markdown",
      "metadata": {
        "id": "stynyhrRcBYX"
      },
      "source": [
        "Saves dataframe to CSV file\n",
        "\n"
      ]
    },
    {
      "cell_type": "code",
      "metadata": {
        "id": "PuTG0fUacB_g"
      },
      "source": [
        "df5.to_csv('effluxtransporter_03_bioactivity_data_curated.csv', index=False)\n"
      ],
      "execution_count": null,
      "outputs": []
    },
    {
      "cell_type": "code",
      "metadata": {
        "id": "3CgCIteOcMBH"
      },
      "source": [
        "! zip effluxtransporter.zip *.csv\n"
      ],
      "execution_count": null,
      "outputs": []
    },
    {
      "cell_type": "code",
      "metadata": {
        "id": "gAoeifHDckwU"
      },
      "source": [
        "! ls -l"
      ],
      "execution_count": null,
      "outputs": []
    },
    {
      "cell_type": "markdown",
      "metadata": {
        "id": "vKTY3mNjdV2x"
      },
      "source": [
        "# **PART-2 Exploratory Data Analysis**"
      ]
    },
    {
      "cell_type": "markdown",
      "metadata": {
        "id": "qG5j5HWudcVu"
      },
      "source": [
        "**In Part 2, we will be performing Descriptor Calculation and Exploratory Data Analysis.**\n",
        "\n"
      ]
    },
    {
      "cell_type": "markdown",
      "metadata": {
        "id": "CdmR27badhLN"
      },
      "source": [
        "# **Install conda and rdkit**"
      ]
    },
    {
      "cell_type": "code",
      "metadata": {
        "id": "gbFRV4vVdecD"
      },
      "source": [
        "! wget https://repo.anaconda.com/miniconda/Miniconda3-py37_4.8.2-Linux-x86_64.sh\n",
        "! chmod +x Miniconda3-py37_4.8.2-Linux-x86_64.sh\n",
        "! bash ./Miniconda3-py37_4.8.2-Linux-x86_64.sh -b -f -p /usr/local\n",
        "! conda install -c rdkit rdkit -y\n",
        "import sys\n",
        "sys.path.append('/usr/local/lib/python3.7/site-packages/')"
      ],
      "execution_count": null,
      "outputs": []
    },
    {
      "cell_type": "markdown",
      "metadata": {
        "id": "B9JCREm_duZj"
      },
      "source": [
        "# **Load bioactivity data**"
      ]
    },
    {
      "cell_type": "code",
      "metadata": {
        "id": "NiWFb9fEdwtn"
      },
      "source": [
        "! wget https://github.com/hafeezjaan77/AMP_Data/blob/main/effluxtransporter_03_bioactivity_data_curated.csv"
      ],
      "execution_count": null,
      "outputs": []
    },
    {
      "cell_type": "code",
      "metadata": {
        "id": "TQz7JCyYfD8l"
      },
      "source": [
        "import pandas as pd"
      ],
      "execution_count": null,
      "outputs": []
    },
    {
      "cell_type": "code",
      "metadata": {
        "id": "zlhTxN1Tg97r"
      },
      "source": [
        "df = pd.read_csv('effluxtransporter_03_bioactivity_data_curated.csv')\n",
        "df"
      ],
      "execution_count": null,
      "outputs": []
    },
    {
      "cell_type": "code",
      "metadata": {
        "id": "sNQuw4LShFjT"
      },
      "source": [
        "df_no_smiles = df.drop(columns='canonical_smiles')\n"
      ],
      "execution_count": null,
      "outputs": []
    },
    {
      "cell_type": "code",
      "metadata": {
        "id": "UhJptPZchJWo"
      },
      "source": [
        "smiles = []\n",
        "\n",
        "for i in df.canonical_smiles.tolist():\n",
        "  cpd = str(i).split('.')\n",
        "  cpd_longest = max(cpd, key = len)\n",
        "  smiles.append(cpd_longest)\n",
        "\n",
        "smiles = pd.Series(smiles, name = 'canonical_smiles')"
      ],
      "execution_count": null,
      "outputs": []
    },
    {
      "cell_type": "code",
      "metadata": {
        "id": "6TycS7chhMZN"
      },
      "source": [
        "df_clean_smiles = pd.concat([df_no_smiles,smiles], axis=1)\n",
        "df_clean_smiles"
      ],
      "execution_count": null,
      "outputs": []
    },
    {
      "cell_type": "markdown",
      "metadata": {
        "id": "iNYiWIMUhRZl"
      },
      "source": [
        "# **Calculate Lipinski descriptors**\n",
        "\n",
        "Christopher Lipinski, a scientist at Pfizer, came up with a set of rule-of-thumb for evaluating the druglikeness of compounds. Such druglikeness is based on the Absorption, Distribution, Metabolism and Excretion (ADME) that is also known as the pharmacokinetic profile. Lipinski analyzed all orally active FDA-approved drugs in the formulation of what is to be known as the Rule-of-Five or Lipinski's Rule.\n",
        "\n",
        "**The Lipinski's Rule stated the following:**\n",
        "\n",
        "Molecular weight < 500 Dalton\n",
        "Octanol-water partition coefficient (LogP) < 5\n",
        "Hydrogen bond donors < 5\n",
        "Hydrogen bond acceptors < 10"
      ]
    },
    {
      "cell_type": "markdown",
      "metadata": {
        "id": "hEx7WEekiYJp"
      },
      "source": [
        "**Import libraries**"
      ]
    },
    {
      "cell_type": "code",
      "metadata": {
        "id": "0gc5L_1MiVNk"
      },
      "source": [
        "import numpy as np\n",
        "from rdkit import Chem\n",
        "from rdkit.Chem import Descriptors, Lipinski"
      ],
      "execution_count": null,
      "outputs": []
    },
    {
      "cell_type": "markdown",
      "metadata": {
        "id": "wQglVG6QiejI"
      },
      "source": [
        "**Calculate descriptors**"
      ]
    },
    {
      "cell_type": "code",
      "metadata": {
        "id": "dzodhyXHigT2"
      },
      "source": [
        "# Inspired by: https://codeocean.com/explore/capsules?query=tag:data-curation\n",
        "\n",
        "def lipinski(smiles, verbose=False):\n",
        "\n",
        "    moldata= []\n",
        "    for elem in smiles:\n",
        "        mol=Chem.MolFromSmiles(elem) \n",
        "        moldata.append(mol)\n",
        "       \n",
        "    baseData= np.arange(1,1)\n",
        "    i=0  \n",
        "    for mol in moldata:        \n",
        "       \n",
        "        desc_MolWt = Descriptors.MolWt(mol)\n",
        "        desc_MolLogP = Descriptors.MolLogP(mol)\n",
        "        desc_NumHDonors = Lipinski.NumHDonors(mol)\n",
        "        desc_NumHAcceptors = Lipinski.NumHAcceptors(mol)\n",
        "           \n",
        "        row = np.array([desc_MolWt,\n",
        "                        desc_MolLogP,\n",
        "                        desc_NumHDonors,\n",
        "                        desc_NumHAcceptors])   \n",
        "    \n",
        "        if(i==0):\n",
        "            baseData=row\n",
        "        else:\n",
        "            baseData=np.vstack([baseData, row])\n",
        "        i=i+1      \n",
        "    \n",
        "    columnNames=[\"MW\",\"LogP\",\"NumHDonors\",\"NumHAcceptors\"]   \n",
        "    descriptors = pd.DataFrame(data=baseData,columns=columnNames)\n",
        "    \n",
        "    return descriptors"
      ],
      "execution_count": null,
      "outputs": []
    },
    {
      "cell_type": "code",
      "metadata": {
        "id": "6PUyFXLZiq_U"
      },
      "source": [
        "df_lipinski = lipinski(df_clean_smiles.canonical_smiles)\n",
        "df_lipinski"
      ],
      "execution_count": null,
      "outputs": []
    },
    {
      "cell_type": "markdown",
      "metadata": {
        "id": "aYR6aTmQiwIT"
      },
      "source": [
        "# **Combine DataFrames**\n",
        "\n",
        "Let's take a look at the 2 DataFrames that will be combined."
      ]
    },
    {
      "cell_type": "code",
      "metadata": {
        "id": "9xDPRNdZizKL"
      },
      "source": [
        "df_lipinski"
      ],
      "execution_count": null,
      "outputs": []
    },
    {
      "cell_type": "code",
      "metadata": {
        "id": "rNn_3nj-i5om"
      },
      "source": [
        "df"
      ],
      "execution_count": null,
      "outputs": []
    },
    {
      "cell_type": "markdown",
      "metadata": {
        "id": "8cTaM5Zki-DQ"
      },
      "source": [
        "Now, let's combine the 2 DataFrame\n",
        "\n"
      ]
    },
    {
      "cell_type": "code",
      "metadata": {
        "id": "VCsCyqDni-8B"
      },
      "source": [
        "df_combined = pd.concat([df,df_lipinski], axis=1)\n"
      ],
      "execution_count": null,
      "outputs": []
    },
    {
      "cell_type": "code",
      "metadata": {
        "id": "Z-DJJybXjB-R"
      },
      "source": [
        "df_combined"
      ],
      "execution_count": null,
      "outputs": []
    },
    {
      "cell_type": "markdown",
      "metadata": {
        "id": "Qnm3TuHGjIKa"
      },
      "source": [
        "# **Convert IC50 to pIC50**\n",
        "\n",
        "To allow IC50 data to be more uniformly distributed, we will convert IC50 to the negative logarithmic scale which is essentially -log10(IC50).\n",
        "\n",
        "This custom function pIC50() will accept a DataFrame as input and will:\n",
        "\n",
        "Take the IC50 values from the standard_value column and converts it from nM to M by multiplying the value by 10$^{-9}\n",
        "\n",
        "Take the molar value and apply -log10\n",
        "\n",
        "Delete the standard_value column and create a new pIC50 column"
      ]
    },
    {
      "cell_type": "code",
      "metadata": {
        "id": "ljHOrLlbjMXX"
      },
      "source": [
        "# https://github.com/chaninlab/estrogen-receptor-alpha-qsar/blob/master/02_ER_alpha_RO5.ipynb\n",
        "\n",
        "import numpy as np\n",
        "\n",
        "def pIC50(input):\n",
        "    pIC50 = []\n",
        "\n",
        "    for i in input['standard_value_norm']:\n",
        "        molar = i*(10**-9) # Converts nM to M\n",
        "        pIC50.append(-np.log10(molar))\n",
        "\n",
        "    input['pIC50'] = pIC50\n",
        "    x = input.drop('standard_value_norm', 1)\n",
        "        \n",
        "    return x"
      ],
      "execution_count": null,
      "outputs": []
    },
    {
      "cell_type": "markdown",
      "metadata": {
        "id": "j9dfTomOjdnx"
      },
      "source": [
        "Point to note: Values greater than 100,000,000 will be fixed at 100,000,000 otherwise the negative logarithmic value will become negative.\n",
        "\n"
      ]
    },
    {
      "cell_type": "code",
      "metadata": {
        "id": "cGIPLcFUjes-"
      },
      "source": [
        "df_combined.standard_value.describe()\n"
      ],
      "execution_count": null,
      "outputs": []
    },
    {
      "cell_type": "code",
      "metadata": {
        "id": "4IWSRWqIjjo-"
      },
      "source": [
        "-np.log10( (10**-9)* 100000000 )\n"
      ],
      "execution_count": null,
      "outputs": []
    },
    {
      "cell_type": "code",
      "metadata": {
        "id": "69PQp4Kujmz4"
      },
      "source": [
        "-np.log10( (10**-9)* 10000000000 )\n"
      ],
      "execution_count": null,
      "outputs": []
    },
    {
      "cell_type": "code",
      "metadata": {
        "id": "SNhAl0OfjqsR"
      },
      "source": [
        "def norm_value(input):\n",
        "    norm = []\n",
        "\n",
        "    for i in input['standard_value']:\n",
        "        if i > 100000000:\n",
        "          i = 100000000\n",
        "        norm.append(i)\n",
        "\n",
        "    input['standard_value_norm'] = norm\n",
        "    x = input.drop('standard_value', 1)\n",
        "        \n",
        "    return x"
      ],
      "execution_count": null,
      "outputs": []
    },
    {
      "cell_type": "markdown",
      "metadata": {
        "id": "Lpayq3xkjty9"
      },
      "source": [
        "We will first apply the norm_value() function so that the values in the standard_value column is normalized.\n",
        "\n"
      ]
    },
    {
      "cell_type": "code",
      "metadata": {
        "id": "mG48C2JPjucW"
      },
      "source": [
        "df_norm = norm_value(df_combined)\n",
        "df_norm"
      ],
      "execution_count": null,
      "outputs": []
    },
    {
      "cell_type": "code",
      "metadata": {
        "id": "NWM_YrIgj1Ee"
      },
      "source": [
        "df_norm.standard_value_norm.describe()"
      ],
      "execution_count": null,
      "outputs": []
    },
    {
      "cell_type": "code",
      "metadata": {
        "id": "PawSUCmnj5Ym"
      },
      "source": [
        "df_final = pIC50(df_norm)\n",
        "df_final"
      ],
      "execution_count": null,
      "outputs": []
    },
    {
      "cell_type": "code",
      "metadata": {
        "id": "DzTxbx0CkG4Q"
      },
      "source": [
        "df_final.pIC50.describe()"
      ],
      "execution_count": null,
      "outputs": []
    },
    {
      "cell_type": "markdown",
      "metadata": {
        "id": "t6b6QX_OkM7Q"
      },
      "source": [
        "Let's write this to CSV file."
      ]
    },
    {
      "cell_type": "code",
      "metadata": {
        "id": "yKZtJ2gEkPL_"
      },
      "source": [
        "df_final.to_csv('effluxtransporter_04_bioactivity_data_3class_pIC50.csv')"
      ],
      "execution_count": null,
      "outputs": []
    },
    {
      "cell_type": "markdown",
      "metadata": {
        "id": "RoCnGqQ0kXZ0"
      },
      "source": [
        "**Removing the 'intermediate' bioactivity class**\n",
        "\n",
        "Here, we will be removing the intermediate class from our data set."
      ]
    },
    {
      "cell_type": "code",
      "metadata": {
        "id": "6n23r8ulkZx3"
      },
      "source": [
        "df_2class = df_final[df_final['class'] != 'intermediate']\n",
        "df_2class"
      ],
      "execution_count": null,
      "outputs": []
    },
    {
      "cell_type": "markdown",
      "metadata": {
        "id": "uL33t4b_kgiQ"
      },
      "source": [
        "Let's write this to CSV file."
      ]
    },
    {
      "cell_type": "code",
      "metadata": {
        "id": "6COErrf0khqH"
      },
      "source": [
        "df_2class.to_csv('effluxtransporter_05_bioactivity_data_2class_pIC50.csv')"
      ],
      "execution_count": null,
      "outputs": []
    },
    {
      "cell_type": "markdown",
      "metadata": {
        "id": "cGZ_Z1SdkvmJ"
      },
      "source": [
        "# **Exploratory Data Analysis (Chemical Space Analysis) via Lipinski descriptors**\n",
        "\n",
        "**Import library**"
      ]
    },
    {
      "cell_type": "code",
      "metadata": {
        "id": "yvQicaYckzan"
      },
      "source": [
        "import seaborn as sns\n",
        "sns.set(style='ticks')\n",
        "import matplotlib.pyplot as plt"
      ],
      "execution_count": null,
      "outputs": []
    },
    {
      "cell_type": "markdown",
      "metadata": {
        "id": "37GNozhkk5mq"
      },
      "source": [
        "**Frequency plot of the 2 bioactivity classes**"
      ]
    },
    {
      "cell_type": "code",
      "metadata": {
        "id": "tOh2d8REk7x8"
      },
      "source": [
        "plt.figure(figsize=(5.5, 5.5))\n",
        "\n",
        "sns.countplot(x='class', data=df_2class, edgecolor='black')\n",
        "\n",
        "plt.xlabel('Bioactivity class', fontsize=14, fontweight='bold')\n",
        "plt.ylabel('Frequency', fontsize=14, fontweight='bold')\n",
        "\n",
        "plt.savefig('plot_bioactivity_class.pdf')"
      ],
      "execution_count": null,
      "outputs": []
    },
    {
      "cell_type": "markdown",
      "metadata": {
        "id": "g7ba5i4UlQoL"
      },
      "source": [
        "**Scatter plot of MW versus LogP**\n",
        "\n",
        "It can be seen that the 2 bioactivity classes are spanning similar chemical spaces as evident by the scatter plot of MW vs LogP."
      ]
    },
    {
      "cell_type": "code",
      "metadata": {
        "id": "HSnsAX_TlTWm"
      },
      "source": [
        "plt.figure(figsize=(5.5, 5.5))\n",
        "\n",
        "sns.scatterplot(x='MW', y='LogP', data=df_2class, hue='class', size='pIC50', edgecolor='black', alpha=0.7)\n",
        "\n",
        "plt.xlabel('MW', fontsize=14, fontweight='bold')\n",
        "plt.ylabel('LogP', fontsize=14, fontweight='bold')\n",
        "plt.legend(bbox_to_anchor=(1.05, 1), loc=2, borderaxespad=0)\n",
        "plt.savefig('plot_MW_vs_LogP.pdf')"
      ],
      "execution_count": null,
      "outputs": []
    },
    {
      "cell_type": "markdown",
      "metadata": {
        "id": "Ph7ERCwmn-4T"
      },
      "source": [
        "# **Box plots**\n",
        "\n",
        "**pIC50 value**"
      ]
    },
    {
      "cell_type": "code",
      "metadata": {
        "id": "fWpk1AKvoB8H"
      },
      "source": [
        "plt.figure(figsize=(5.5, 5.5))\n",
        "\n",
        "sns.boxplot(x = 'class', y = 'pIC50', data = df_2class)\n",
        "\n",
        "plt.xlabel('Bioactivity class', fontsize=14, fontweight='bold')\n",
        "plt.ylabel('pIC50 value', fontsize=14, fontweight='bold')\n",
        "\n",
        "plt.savefig('plot_ic50.pdf')"
      ],
      "execution_count": null,
      "outputs": []
    },
    {
      "cell_type": "markdown",
      "metadata": {
        "id": "JVPJhkEioIPb"
      },
      "source": [
        "**Statistical analysis | Mann-Whitney U Test**"
      ]
    },
    {
      "cell_type": "code",
      "metadata": {
        "id": "Xh5et9rPoKsR"
      },
      "source": [
        "def mannwhitney(descriptor, verbose=False):\n",
        "  # https://machinelearningmastery.com/nonparametric-statistical-significance-tests-in-python/\n",
        "  from numpy.random import seed\n",
        "  from numpy.random import randn\n",
        "  from scipy.stats import mannwhitneyu\n",
        "\n",
        "# seed the random number generator\n",
        "  seed(1)\n",
        "\n",
        "# actives and inactives\n",
        "  selection = [descriptor, 'class']\n",
        "  df = df_2class[selection]\n",
        "  active = df[df['class'] == 'active']\n",
        "  active = active[descriptor]\n",
        "\n",
        "  selection = [descriptor, 'class']\n",
        "  df = df_2class[selection]\n",
        "  inactive = df[df['class'] == 'inactive']\n",
        "  inactive = inactive[descriptor]\n",
        "\n",
        "# compare samples\n",
        "  stat, p = mannwhitneyu(active, inactive)\n",
        "  #print('Statistics=%.3f, p=%.3f' % (stat, p))\n",
        "\n",
        "# interpret\n",
        "  alpha = 0.05\n",
        "  if p > alpha:\n",
        "    interpretation = 'Same distribution (fail to reject H0)'\n",
        "  else:\n",
        "    interpretation = 'Different distribution (reject H0)'\n",
        "  \n",
        "  results = pd.DataFrame({'Descriptor':descriptor,\n",
        "                          'Statistics':stat,\n",
        "                          'p':p,\n",
        "                          'alpha':alpha,\n",
        "                          'Interpretation':interpretation}, index=[0])\n",
        "  filename = 'mannwhitneyu_' + descriptor + '.csv'\n",
        "  results.to_csv(filename)\n",
        "\n",
        "  return results"
      ],
      "execution_count": null,
      "outputs": []
    },
    {
      "cell_type": "code",
      "metadata": {
        "id": "J16Iv6E-oaT1"
      },
      "source": [
        "mannwhitney('pIC50')"
      ],
      "execution_count": null,
      "outputs": []
    },
    {
      "cell_type": "markdown",
      "metadata": {
        "id": "kG65jEu8oe2y"
      },
      "source": [
        "**MW**"
      ]
    },
    {
      "cell_type": "code",
      "metadata": {
        "id": "NZkDtJocoghX"
      },
      "source": [
        "plt.figure(figsize=(5.5, 5.5))\n",
        "\n",
        "sns.boxplot(x = 'class', y = 'MW', data = df_2class)\n",
        "\n",
        "plt.xlabel('Bioactivity class', fontsize=14, fontweight='bold')\n",
        "plt.ylabel('MW', fontsize=14, fontweight='bold')\n",
        "\n",
        "plt.savefig('plot_MW.pdf')"
      ],
      "execution_count": null,
      "outputs": []
    },
    {
      "cell_type": "code",
      "metadata": {
        "id": "xUtYp5U3onA-"
      },
      "source": [
        "mannwhitney('MW')"
      ],
      "execution_count": null,
      "outputs": []
    },
    {
      "cell_type": "markdown",
      "metadata": {
        "id": "C0Nt2NFSosry"
      },
      "source": [
        "**LogP**"
      ]
    },
    {
      "cell_type": "code",
      "metadata": {
        "id": "kBIPJ9ujopg8"
      },
      "source": [
        "plt.figure(figsize=(5.5, 5.5))\n",
        "\n",
        "sns.boxplot(x = 'class', y = 'LogP', data = df_2class)\n",
        "\n",
        "plt.xlabel('Bioactivity class', fontsize=14, fontweight='bold')\n",
        "plt.ylabel('LogP', fontsize=14, fontweight='bold')\n",
        "\n",
        "plt.savefig('plot_LogP.pdf')"
      ],
      "execution_count": null,
      "outputs": []
    },
    {
      "cell_type": "markdown",
      "metadata": {
        "id": "Pcs_wU8Xozxf"
      },
      "source": [
        "Statistical analysis | Mann-Whitney U Test\n",
        "\n"
      ]
    },
    {
      "cell_type": "code",
      "metadata": {
        "id": "BDYRbnXlo0qR"
      },
      "source": [
        "mannwhitney('LogP')"
      ],
      "execution_count": null,
      "outputs": []
    },
    {
      "cell_type": "markdown",
      "metadata": {
        "id": "Xj1NLahno6jL"
      },
      "source": [
        "**NumHDonors**"
      ]
    },
    {
      "cell_type": "code",
      "metadata": {
        "id": "q_TEho5Zo8M4"
      },
      "source": [
        "plt.figure(figsize=(5.5, 5.5))\n",
        "\n",
        "sns.boxplot(x = 'class', y = 'NumHDonors', data = df_2class)\n",
        "\n",
        "plt.xlabel('Bioactivity class', fontsize=14, fontweight='bold')\n",
        "plt.ylabel('NumHDonors', fontsize=14, fontweight='bold')\n",
        "\n",
        "plt.savefig('plot_NumHDonors.pdf')"
      ],
      "execution_count": null,
      "outputs": []
    },
    {
      "cell_type": "markdown",
      "metadata": {
        "id": "RWRqwK8EpCwH"
      },
      "source": [
        "Statistical analysis | Mann-Whitney U Test\n",
        "\n"
      ]
    },
    {
      "cell_type": "code",
      "metadata": {
        "id": "_ZTIO-OVpDhm"
      },
      "source": [
        "mannwhitney('NumHDonors')"
      ],
      "execution_count": null,
      "outputs": []
    },
    {
      "cell_type": "markdown",
      "metadata": {
        "id": "hW1E_TCJpIpU"
      },
      "source": [
        "**NumHAcceptors**"
      ]
    },
    {
      "cell_type": "code",
      "metadata": {
        "id": "yDZSqAn_pN51"
      },
      "source": [
        "plt.figure(figsize=(5.5, 5.5))\n",
        "\n",
        "sns.boxplot(x = 'class', y = 'NumHAcceptors', data = df_2class)\n",
        "\n",
        "plt.xlabel('Bioactivity class', fontsize=14, fontweight='bold')\n",
        "plt.ylabel('NumHAcceptors', fontsize=14, fontweight='bold')\n",
        "\n",
        "plt.savefig('plot_NumHAcceptors.pdf')"
      ],
      "execution_count": null,
      "outputs": []
    },
    {
      "cell_type": "code",
      "metadata": {
        "id": "1UiVgh4DpTqn"
      },
      "source": [
        "mannwhitney('NumHAcceptors')\n"
      ],
      "execution_count": null,
      "outputs": []
    },
    {
      "cell_type": "markdown",
      "metadata": {
        "id": "QH9to8C8pVBE"
      },
      "source": [
        "Interpretation of Statistical Results\n",
        "\n",
        "Box Plots\n",
        "\n",
        "pIC50 values\n",
        "\n",
        "Taking a look at pIC50 values, the actives and inactives displayed statistically significant difference, which is to be expected since threshold values (IC50 < 1,000 nM = Actives while IC50 > 10,000 nM = Inactives, corresponding to pIC50 > 6 = Actives and pIC50 < 5 = Inactives) were used to define actives and inactives.\n",
        "\n",
        "Lipinski's descriptors\n",
        "\n",
        "All of the 4 Lipinski's descriptors exhibited statistically significant difference between the actives and inactives."
      ]
    },
    {
      "cell_type": "markdown",
      "metadata": {
        "id": "sVq-syropgK_"
      },
      "source": [
        "Zip files"
      ]
    },
    {
      "cell_type": "code",
      "metadata": {
        "id": "SEs1aRP2pg-p"
      },
      "source": [
        "! zip -r results.zip . -i *.csv *.pdf"
      ],
      "execution_count": null,
      "outputs": []
    },
    {
      "cell_type": "markdown",
      "metadata": {
        "id": "QLUPNnZtpwjw"
      },
      "source": [
        "# **[Part 3] Descriptor Calculation and Dataset Preparation**"
      ]
    },
    {
      "cell_type": "markdown",
      "metadata": {
        "id": "x4hK-CzKpzWP"
      },
      "source": [
        "**Download PaDEL-Descriptor**\n"
      ]
    },
    {
      "cell_type": "code",
      "metadata": {
        "id": "iDkrM_r7p5Fs"
      },
      "source": [
        "! wget https://github.com/dataprofessor/bioinformatics/raw/master/padel.zip\n",
        "! wget https://github.com/dataprofessor/bioinformatics/raw/master/padel.sh"
      ],
      "execution_count": null,
      "outputs": []
    },
    {
      "cell_type": "code",
      "metadata": {
        "id": "dDu2YKhNp_ew"
      },
      "source": [
        "! unzip padel.zip"
      ],
      "execution_count": null,
      "outputs": []
    },
    {
      "cell_type": "markdown",
      "metadata": {
        "id": "6fBfR2L1qGmp"
      },
      "source": [
        "**Load bioactivity data**\n",
        "\n",
        "Download the curated ChEMBL bioactivity data that has been pre-processed from Parts 1 and 2 of this Bioinformatics Project series. Here we will be using the bioactivity_data_3class_pIC50.csv file that essentially contain the pIC50 values that we will be using for building a regression model."
      ]
    },
    {
      "cell_type": "code",
      "metadata": {
        "id": "NveUefhFqJFh"
      },
      "source": [
        "! wget https://github.com/hafeezjaan77/AMP_Data/blob/main/effluxtransporter_04_bioactivity_data_3class_pIC50.csv"
      ],
      "execution_count": null,
      "outputs": []
    },
    {
      "cell_type": "code",
      "metadata": {
        "id": "jF5d8tAXrE5q"
      },
      "source": [
        "import pandas as pd"
      ],
      "execution_count": null,
      "outputs": []
    },
    {
      "cell_type": "code",
      "metadata": {
        "id": "x3hGW7K4rJCl"
      },
      "source": [
        "df3 = pd.read_csv('effluxtransporter_04_bioactivity_data_3class_pIC50.csv')"
      ],
      "execution_count": null,
      "outputs": []
    },
    {
      "cell_type": "code",
      "metadata": {
        "id": "cECeHknhrX0R"
      },
      "source": [
        "df3"
      ],
      "execution_count": null,
      "outputs": []
    },
    {
      "cell_type": "code",
      "metadata": {
        "id": "bHQsMklWrd84"
      },
      "source": [
        "selection = ['canonical_smiles','molecule_chembl_id']\n",
        "df3_selection = df3[selection]\n",
        "df3_selection.to_csv('molecule.smi', sep='\\t', index=False, header=False)"
      ],
      "execution_count": null,
      "outputs": []
    },
    {
      "cell_type": "code",
      "metadata": {
        "id": "KT0sapkrriVO"
      },
      "source": [
        "! cat molecule.smi | head -5"
      ],
      "execution_count": null,
      "outputs": []
    },
    {
      "cell_type": "code",
      "metadata": {
        "id": "9pit-pXTrmfw"
      },
      "source": [
        "! cat molecule.smi | wc -l"
      ],
      "execution_count": null,
      "outputs": []
    },
    {
      "cell_type": "markdown",
      "metadata": {
        "id": "1ZTUwb9krqj8"
      },
      "source": [
        "**Calculate fingerprint descriptors**\n",
        "\n",
        "Calculate PaDEL descriptors"
      ]
    },
    {
      "cell_type": "code",
      "metadata": {
        "id": "SRSaIHQ6ruyI"
      },
      "source": [
        "! cat padel.sh"
      ],
      "execution_count": null,
      "outputs": []
    },
    {
      "cell_type": "code",
      "metadata": {
        "id": "68MgFhO0r1fG"
      },
      "source": [
        "! bash padel.sh"
      ],
      "execution_count": null,
      "outputs": []
    },
    {
      "cell_type": "code",
      "metadata": {
        "id": "iOJ9D1Xcr_tx"
      },
      "source": [
        "! ls -l"
      ],
      "execution_count": null,
      "outputs": []
    },
    {
      "cell_type": "markdown",
      "metadata": {
        "id": "yCDqKmWUsEFw"
      },
      "source": [
        "**Preparing the X and Y Data Matrices**\n",
        "\n",
        "X data matrix"
      ]
    },
    {
      "cell_type": "code",
      "metadata": {
        "id": "i_MyhEfzsGcI"
      },
      "source": [
        "df3_X = pd.read_csv('descriptors_output.csv')"
      ],
      "execution_count": null,
      "outputs": []
    },
    {
      "cell_type": "code",
      "metadata": {
        "id": "xVc2dmMGsMGt"
      },
      "source": [
        "df3_X"
      ],
      "execution_count": null,
      "outputs": []
    },
    {
      "cell_type": "code",
      "metadata": {
        "id": "YrsBT4R7sSHK"
      },
      "source": [
        "df3_X = df3_X.drop(columns=['Name'])\n",
        "df3_X"
      ],
      "execution_count": null,
      "outputs": []
    },
    {
      "cell_type": "markdown",
      "metadata": {
        "id": "taMBlEkfsR0Z"
      },
      "source": [
        "**Y variable**\n",
        "\n",
        "Convert IC50 to pIC50"
      ]
    },
    {
      "cell_type": "code",
      "metadata": {
        "id": "GP8O4YJ_sZlM"
      },
      "source": [
        "df3_Y = df3['pIC50']\n",
        "df3_Y"
      ],
      "execution_count": null,
      "outputs": []
    },
    {
      "cell_type": "markdown",
      "metadata": {
        "id": "_oWRCo-2sRkp"
      },
      "source": [
        "**Combining X and Y variable**"
      ]
    },
    {
      "cell_type": "code",
      "metadata": {
        "id": "aB-Py3dtshgg"
      },
      "source": [
        "dataset3 = pd.concat([df3_X,df3_Y], axis=1)\n",
        "dataset3"
      ],
      "execution_count": null,
      "outputs": []
    },
    {
      "cell_type": "code",
      "metadata": {
        "id": "0h2YxJCKsnvG"
      },
      "source": [
        "dataset3.to_csv('effluxtransporter_6_bioactivity_data_3class_pIC50_pubchem_fp.csv', index=False)"
      ],
      "execution_count": null,
      "outputs": []
    },
    {
      "cell_type": "markdown",
      "metadata": {
        "id": "8M1hQjRssufc"
      },
      "source": [
        "# **Let's download the CSV file to your local computer for the Part 3B (Model Building)**."
      ]
    },
    {
      "cell_type": "markdown",
      "metadata": {
        "id": "bjd2jcLMsw0I"
      },
      "source": [
        "# **[Part 4] Regression Models with Random Forest**"
      ]
    },
    {
      "cell_type": "markdown",
      "metadata": {
        "id": "rmOZO0lis4ik"
      },
      "source": [
        "**1. Import libraries**"
      ]
    },
    {
      "cell_type": "code",
      "metadata": {
        "id": "A_O3KNWqs9gB"
      },
      "source": [
        "import pandas as pd\n",
        "import seaborn as sns\n",
        "from sklearn.model_selection import train_test_split\n",
        "from sklearn.ensemble import RandomForestRegressor"
      ],
      "execution_count": null,
      "outputs": []
    },
    {
      "cell_type": "markdown",
      "metadata": {
        "id": "P044KElbtBZJ"
      },
      "source": [
        "**2. Load the data set**"
      ]
    },
    {
      "cell_type": "code",
      "metadata": {
        "id": "WqX0nH5utGEj"
      },
      "source": [
        "! wget https://github.com/hafeezjaan77/AMP_Data/blob/main/effluxtransporter_6_bioactivity_data_3class_pIC50_pubchem_fp.csv"
      ],
      "execution_count": null,
      "outputs": []
    },
    {
      "cell_type": "code",
      "metadata": {
        "id": "cd4EkbFftjG1"
      },
      "source": [
        "df = pd.read_csv('effluxtransporter_6_bioactivity_data_3class_pIC50_pubchem_fp.csv')"
      ],
      "execution_count": null,
      "outputs": []
    },
    {
      "cell_type": "markdown",
      "metadata": {
        "id": "az2m9hUstqNq"
      },
      "source": [
        "**3. Input features**\n",
        "\n",
        "The Replicase data set contains 881 input features and 1 output variable (pIC50 values).\n",
        "\n",
        "**3.1. Input features**"
      ]
    },
    {
      "cell_type": "code",
      "metadata": {
        "id": "oZadWlgatvBG"
      },
      "source": [
        "X = df.drop('pIC50', axis=1)\n",
        "X"
      ],
      "execution_count": null,
      "outputs": []
    },
    {
      "cell_type": "markdown",
      "metadata": {
        "id": "VWlT0QiWt6-s"
      },
      "source": [
        "**3.2. Output features**"
      ]
    },
    {
      "cell_type": "code",
      "metadata": {
        "id": "DUKrcl-ht8v6"
      },
      "source": [
        "Y = df.pIC50\n",
        "Y"
      ],
      "execution_count": null,
      "outputs": []
    },
    {
      "cell_type": "markdown",
      "metadata": {
        "id": "Vrj16rySuDQV"
      },
      "source": [
        "**3.3. Let's examine the data dimension**"
      ]
    },
    {
      "cell_type": "code",
      "metadata": {
        "id": "VOGel4U7uCyA"
      },
      "source": [
        "X.shape"
      ],
      "execution_count": null,
      "outputs": []
    },
    {
      "cell_type": "code",
      "metadata": {
        "id": "ensv9jpruLv_"
      },
      "source": [
        "Y.shape"
      ],
      "execution_count": null,
      "outputs": []
    },
    {
      "cell_type": "markdown",
      "metadata": {
        "id": "vyv67IymuPTA"
      },
      "source": [
        "**3.4. Remove low variance features**"
      ]
    },
    {
      "cell_type": "code",
      "metadata": {
        "id": "MZ8EHuW9uREh"
      },
      "source": [
        "from sklearn.feature_selection import VarianceThreshold\n",
        "selection = VarianceThreshold(threshold=(.8 * (1 - .8)))    \n",
        "X = selection.fit_transform(X)"
      ],
      "execution_count": null,
      "outputs": []
    },
    {
      "cell_type": "code",
      "metadata": {
        "id": "Lnc2bdKiuh7Z"
      },
      "source": [
        "X.shape"
      ],
      "execution_count": null,
      "outputs": []
    },
    {
      "cell_type": "markdown",
      "metadata": {
        "id": "Dd1zMuB2ulTN"
      },
      "source": [
        "# **4. Data split (80/20 ratio)**"
      ]
    },
    {
      "cell_type": "code",
      "metadata": {
        "id": "6a4JGdG0uoqS"
      },
      "source": [
        "X_train, X_test, Y_train, Y_test = train_test_split(X, Y, test_size=0.2)"
      ],
      "execution_count": null,
      "outputs": []
    },
    {
      "cell_type": "code",
      "metadata": {
        "id": "uEsz8fxAuuJA"
      },
      "source": [
        "X_train.shape, Y_train.shape"
      ],
      "execution_count": null,
      "outputs": []
    },
    {
      "cell_type": "code",
      "metadata": {
        "id": "eGjQtUh4ux-k"
      },
      "source": [
        "X_test.shape, Y_test.shape"
      ],
      "execution_count": null,
      "outputs": []
    },
    {
      "cell_type": "markdown",
      "metadata": {
        "id": "FSLsBx0Xu2I0"
      },
      "source": [
        "# **5. Building a Regression Model using Random Forest**"
      ]
    },
    {
      "cell_type": "code",
      "metadata": {
        "id": "1csLUkqAu5HB"
      },
      "source": [
        "model = RandomForestRegressor(n_estimators=100)\n",
        "model.fit(X_train, Y_train)\n",
        "r2 = model.score(X_test, Y_test)\n",
        "r2"
      ],
      "execution_count": null,
      "outputs": []
    },
    {
      "cell_type": "code",
      "metadata": {
        "id": "IAUWyNA2u_Bl"
      },
      "source": [
        "Y_pred = model.predict(X_test)"
      ],
      "execution_count": null,
      "outputs": []
    },
    {
      "cell_type": "markdown",
      "metadata": {
        "id": "f6VDvcpAvCxa"
      },
      "source": [
        "# **6. Scatter Plot of Experimental vs Predicted pIC50 Values**"
      ]
    },
    {
      "cell_type": "code",
      "metadata": {
        "id": "k8oq_ACevE7f"
      },
      "source": [
        "import seaborn as sns\n",
        "import matplotlib.pyplot as plt\n",
        "\n",
        "sns.set(color_codes=True)\n",
        "sns.set_style(\"white\")\n",
        "\n",
        "ax = sns.regplot(Y_test, Y_pred, scatter_kws={'alpha':0.4})\n",
        "ax.set_xlabel('Experimental pIC50', fontsize='large', fontweight='bold')\n",
        "ax.set_ylabel('Predicted pIC50', fontsize='large', fontweight='bold')\n",
        "ax.set_xlim(0, 12)\n",
        "ax.set_ylim(0, 12)\n",
        "ax.figure.set_size_inches(5, 5)\n",
        "plt.show"
      ],
      "execution_count": null,
      "outputs": []
    },
    {
      "cell_type": "markdown",
      "metadata": {
        "id": "tZvrmJz7vVK_"
      },
      "source": [
        "# **[Part 5] Comparing Regressors**"
      ]
    },
    {
      "cell_type": "markdown",
      "metadata": {
        "id": "o3MmHr_GvZ5K"
      },
      "source": [
        "**1. Import libraries**"
      ]
    },
    {
      "cell_type": "code",
      "metadata": {
        "id": "7iWr5WAMvbjY"
      },
      "source": [
        "! pip install lazypredict"
      ],
      "execution_count": null,
      "outputs": []
    },
    {
      "cell_type": "code",
      "metadata": {
        "id": "HhHEZZwNviwy"
      },
      "source": [
        "import pandas as pd\n",
        "import seaborn as sns\n",
        "from sklearn.model_selection import train_test_split\n",
        "import lazypredict\n",
        "from lazypredict.Supervised import LazyRegressor"
      ],
      "execution_count": null,
      "outputs": []
    },
    {
      "cell_type": "markdown",
      "metadata": {
        "id": "dwiYNC1UvvBz"
      },
      "source": [
        "**2. Load the data set**"
      ]
    },
    {
      "cell_type": "code",
      "metadata": {
        "id": "b8tXObQIvwrr"
      },
      "source": [
        "! wget https://github.com/hafeezjaan77/AMP_Data/blob/main/effluxtransporter_6_bioactivity_data_3class_pIC50_pubchem_fp.csv.1"
      ],
      "execution_count": null,
      "outputs": []
    },
    {
      "cell_type": "code",
      "metadata": {
        "id": "rtnI-3RewKTw"
      },
      "source": [
        "df = pd.read_csv('effluxtransporter_6_bioactivity_data_3class_pIC50_pubchem_fp.csv')"
      ],
      "execution_count": null,
      "outputs": []
    },
    {
      "cell_type": "code",
      "metadata": {
        "id": "VcACpKTvwP3d"
      },
      "source": [
        "X = df.drop('pIC50', axis=1)\n",
        "Y = df.pIC50"
      ],
      "execution_count": null,
      "outputs": []
    },
    {
      "cell_type": "markdown",
      "metadata": {
        "id": "xvi9snsFwSoT"
      },
      "source": [
        "**3. Data pre-processing**"
      ]
    },
    {
      "cell_type": "code",
      "metadata": {
        "id": "t-Sq_XxXwUpM"
      },
      "source": [
        "# Examine X dimension\n",
        "X.shape"
      ],
      "execution_count": null,
      "outputs": []
    },
    {
      "cell_type": "code",
      "metadata": {
        "id": "TUcJG4BRwaeZ"
      },
      "source": [
        "# Remove low variance features\n",
        "from sklearn.feature_selection import VarianceThreshold\n",
        "selection = VarianceThreshold(threshold=(.8 * (1 - .8)))    \n",
        "X = selection.fit_transform(X)\n",
        "X.shape"
      ],
      "execution_count": null,
      "outputs": []
    },
    {
      "cell_type": "code",
      "metadata": {
        "id": "obPo7RDkwfHe"
      },
      "source": [
        "# Perform data splitting using 80/20 ratio\n",
        "X_train, X_test, Y_train, Y_test = train_test_split(X, Y, test_size=0.2, random_state=42)"
      ],
      "execution_count": null,
      "outputs": []
    },
    {
      "cell_type": "markdown",
      "metadata": {
        "id": "UIEESuiowibM"
      },
      "source": [
        "**4. Compare ML algorithms**"
      ]
    },
    {
      "cell_type": "code",
      "metadata": {
        "id": "N4XgvEDJwkTH"
      },
      "source": [
        "# Defines and builds the lazyclassifier\n",
        "clf = LazyRegressor(verbose=0,ignore_warnings=True, custom_metric=None)\n",
        "models_train,predictions_train = clf.fit(X_train, X_train, Y_train, Y_train)\n",
        "models_test,predictions_test = clf.fit(X_train, X_test, Y_train, Y_test)"
      ],
      "execution_count": null,
      "outputs": []
    },
    {
      "cell_type": "code",
      "metadata": {
        "id": "pokaMYRKwxPD"
      },
      "source": [
        "# Performance table of the training set (80% subset)\n",
        "predictions_train"
      ],
      "execution_count": null,
      "outputs": []
    },
    {
      "cell_type": "code",
      "metadata": {
        "id": "LEOCtkgCw9WY"
      },
      "source": [
        "# Performance table of the test set (20% subset)\n",
        "predictions_test"
      ],
      "execution_count": null,
      "outputs": []
    },
    {
      "cell_type": "markdown",
      "metadata": {
        "id": "JRHP_7ZWxCg8"
      },
      "source": [
        "**5. Data visualization of model performance**"
      ]
    },
    {
      "cell_type": "code",
      "metadata": {
        "id": "TdHBnMWXxEoS"
      },
      "source": [
        "# Bar plot of R-squared values\n",
        "import matplotlib.pyplot as plt\n",
        "import seaborn as sns\n",
        "\n",
        "#train[\"R-Squared\"] = [0 if i < 0 else i for i in train.iloc[:,0] ]\n",
        "\n",
        "plt.figure(figsize=(5, 10))\n",
        "sns.set_theme(style=\"whitegrid\")\n",
        "ax = sns.barplot(y=predictions_train.index, x=\"R-Squared\", data=predictions_train)\n",
        "ax.set(xlim=(0, 1))"
      ],
      "execution_count": null,
      "outputs": []
    },
    {
      "cell_type": "code",
      "metadata": {
        "id": "zhEq7W2ixNAf"
      },
      "source": [
        "# Bar plot of RMSE values\n",
        "import matplotlib.pyplot as plt\n",
        "import seaborn as sns\n",
        "\n",
        "plt.figure(figsize=(5, 10))\n",
        "sns.set_theme(style=\"whitegrid\")\n",
        "ax = sns.barplot(y=predictions_train.index, x=\"RMSE\", data=predictions_train)\n",
        "ax.set(xlim=(0, 10))"
      ],
      "execution_count": null,
      "outputs": []
    },
    {
      "cell_type": "code",
      "metadata": {
        "id": "127QU1KsxSrp"
      },
      "source": [
        "# Bar plot of calculation time\n",
        "import matplotlib.pyplot as plt\n",
        "import seaborn as sns\n",
        "\n",
        "plt.figure(figsize=(5, 10))\n",
        "sns.set_theme(style=\"whitegrid\")\n",
        "ax = sns.barplot(y=predictions_train.index, x=\"Time Taken\", data=predictions_train)\n",
        "ax.set(xlim=(0, 10))"
      ],
      "execution_count": null,
      "outputs": []
    },
    {
      "cell_type": "markdown",
      "metadata": {
        "id": "B6oGWd3TxqW9"
      },
      "source": [
        "# **QSAR Model Building of Replicase Inhibitors**\n"
      ]
    },
    {
      "cell_type": "markdown",
      "metadata": {
        "id": "NUiuVgq7xwYE"
      },
      "source": [
        "**Read in data**"
      ]
    },
    {
      "cell_type": "code",
      "metadata": {
        "id": "VrKHnEaax0sa"
      },
      "source": [
        "import pandas as pd"
      ],
      "execution_count": null,
      "outputs": []
    },
    {
      "cell_type": "code",
      "metadata": {
        "id": "M5-WuonQzb3G"
      },
      "source": [
        "data = pd.read_csv('effluxtransporter_6_bioactivity_data_3class_pIC50_pubchem_fp.csv', error_bad_lines=False)"
      ],
      "execution_count": null,
      "outputs": []
    },
    {
      "cell_type": "code",
      "metadata": {
        "id": "sXYxO93f0Ech"
      },
      "source": [
        "data"
      ],
      "execution_count": null,
      "outputs": []
    },
    {
      "cell_type": "code",
      "metadata": {
        "id": "C70SW3400K5j"
      },
      "source": [
        "X = data.drop(['pIC50'], axis=1)\n",
        "X"
      ],
      "execution_count": null,
      "outputs": []
    },
    {
      "cell_type": "code",
      "metadata": {
        "id": "fdWNcNbK0S4l"
      },
      "source": [
        "Y = data.iloc[:,-1]\n",
        "Y"
      ],
      "execution_count": null,
      "outputs": []
    },
    {
      "cell_type": "markdown",
      "metadata": {
        "id": "3RbicYLb0ZTN"
      },
      "source": [
        "**Remove low variance features**"
      ]
    },
    {
      "cell_type": "code",
      "metadata": {
        "id": "rzObuaq00bge"
      },
      "source": [
        "from sklearn.feature_selection import VarianceThreshold\n",
        "\n",
        "def remove_low_variance(input_data, threshold=0.1):\n",
        "    selection = VarianceThreshold(threshold)\n",
        "    selection.fit(input_data)\n",
        "    return input_data[input_data.columns[selection.get_support(indices=True)]]\n",
        "\n",
        "X = remove_low_variance(X, threshold=0.1)\n",
        "X"
      ],
      "execution_count": null,
      "outputs": []
    },
    {
      "cell_type": "code",
      "metadata": {
        "id": "WzPxBh6o0kl9"
      },
      "source": [
        "X.to_csv('descriptor_list.csv', index = False)"
      ],
      "execution_count": null,
      "outputs": []
    },
    {
      "cell_type": "code",
      "metadata": {
        "id": "ExOEVyoV0o-Q"
      },
      "source": [
        "# In the app, use the following to get this same descriptor list\n",
        "# of 218 variables from the initial set of 881 variables\n",
        "# Xlist = list(pd.read_csv('descriptor_list.csv').columns)\n",
        "# X[Xlist]"
      ],
      "execution_count": null,
      "outputs": []
    },
    {
      "cell_type": "markdown",
      "metadata": {
        "id": "qhfDP0XX0tij"
      },
      "source": [
        "# **Random Forest Regression Model**"
      ]
    },
    {
      "cell_type": "code",
      "metadata": {
        "id": "i4ZB7isp0tLj"
      },
      "source": [
        "from sklearn.ensemble import RandomForestRegressor\n",
        "from sklearn.metrics import mean_squared_error, r2_score"
      ],
      "execution_count": null,
      "outputs": []
    },
    {
      "cell_type": "code",
      "metadata": {
        "id": "QSw1_V_w01HF"
      },
      "source": [
        "model = RandomForestRegressor(n_estimators=500, random_state=42)\n",
        "model.fit(X, Y)\n",
        "r2 = model.score(X, Y)\n",
        "r2"
      ],
      "execution_count": null,
      "outputs": []
    },
    {
      "cell_type": "markdown",
      "metadata": {
        "id": "24xCcnIf05IW"
      },
      "source": [
        "# **Model Prediction**"
      ]
    },
    {
      "cell_type": "code",
      "metadata": {
        "id": "5-gS-U7P09RF"
      },
      "source": [
        "Y_pred = model.predict(X)\n",
        "Y_pred"
      ],
      "execution_count": null,
      "outputs": []
    },
    {
      "cell_type": "markdown",
      "metadata": {
        "id": "1snsaIRw1DMr"
      },
      "source": [
        "# **Model Performance**"
      ]
    },
    {
      "cell_type": "code",
      "metadata": {
        "id": "xKQVGpRl1CId"
      },
      "source": [
        "print('Mean squared error (MSE): %.2f'\n",
        "      % mean_squared_error(Y, Y_pred))\n",
        "print('Coefficient of determination (R^2): %.2f'\n",
        "      % r2_score(Y, Y_pred))"
      ],
      "execution_count": null,
      "outputs": []
    },
    {
      "cell_type": "markdown",
      "metadata": {
        "id": "Bud3JKIJ1L7_"
      },
      "source": [
        "# **Data Visualization** **(Experimental vs Predicted pIC50 for Training Data)**"
      ]
    },
    {
      "cell_type": "code",
      "metadata": {
        "id": "kmuG-4WK1SB-"
      },
      "source": [
        "import matplotlib.pyplot as plt\n",
        "import numpy as np"
      ],
      "execution_count": null,
      "outputs": []
    },
    {
      "cell_type": "code",
      "metadata": {
        "id": "_qF9dc7d1ZET"
      },
      "source": [
        "plt.figure(figsize=(5,5))\n",
        "plt.scatter(x=Y, y=Y_pred, c=\"#7CAE00\", alpha=0.3)\n",
        "\n",
        "# Add trendline\n",
        "# https://stackoverflow.com/questions/26447191/how-to-add-trendline-in-python-matplotlib-dot-scatter-graphs\n",
        "z = np.polyfit(Y, Y_pred, 1)\n",
        "p = np.poly1d(z)\n",
        "\n",
        "plt.plot(Y,p(Y),\"#F8766D\")\n",
        "plt.ylabel('Predicted pIC50')\n",
        "plt.xlabel('Experimental pIC50')"
      ],
      "execution_count": null,
      "outputs": []
    },
    {
      "cell_type": "markdown",
      "metadata": {
        "id": "Z-E21JVC1kPm"
      },
      "source": [
        "# **Save Model as Pickle Object**"
      ]
    },
    {
      "cell_type": "code",
      "metadata": {
        "id": "p5ZbzesZ1w3l"
      },
      "source": [
        "import pickle"
      ],
      "execution_count": null,
      "outputs": []
    },
    {
      "cell_type": "code",
      "metadata": {
        "id": "W0VsmpMQ11vN"
      },
      "source": [
        "pickle.dump(model, open('effluxtransporter_model.pkl', 'wb'))"
      ],
      "execution_count": null,
      "outputs": []
    }
  ]
}